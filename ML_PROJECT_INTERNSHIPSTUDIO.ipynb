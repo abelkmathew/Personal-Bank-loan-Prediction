{
  "nbformat": 4,
  "nbformat_minor": 0,
  "metadata": {
    "kernelspec": {
      "display_name": "Python 3",
      "language": "python",
      "name": "python3"
    },
    "language_info": {
      "name": "python",
      "version": "3.6.6",
      "mimetype": "text/x-python",
      "codemirror_mode": {
        "name": "ipython",
        "version": 3
      },
      "pygments_lexer": "ipython3",
      "nbconvert_exporter": "python",
      "file_extension": ".py"
    },
    "colab": {
      "name": "ML PROJECT_INTERNSHIPSTUDIO.ipynb",
      "provenance": [],
      "collapsed_sections": [
        "3Rrn8FEO4th8",
        "8Ef3oDzo5BbD"
      ]
    }
  },
  "cells": [
    {
      "cell_type": "markdown",
      "metadata": {
        "id": "jUlCq-mY3Z9R",
        "colab_type": "text"
      },
      "source": [
        "# **Marketing Campaign for Banking Products**"
      ]
    },
    {
      "cell_type": "markdown",
      "metadata": {
        "id": "08WNubtf_lg_",
        "colab_type": "text"
      },
      "source": [
        "# **Objective**\n",
        "The classification goal is to predict the likelihood of a liability customer buying personal\n",
        "loans."
      ]
    },
    {
      "cell_type": "markdown",
      "metadata": {
        "id": "3Rrn8FEO4th8",
        "colab_type": "text"
      },
      "source": [
        "# **Context**"
      ]
    },
    {
      "cell_type": "markdown",
      "metadata": {
        "id": "ogMSgazk6OWJ",
        "colab_type": "text"
      },
      "source": [
        "The bank has a growing customer base. The bank wants to increase borrowers (asset customers) base to bring in more loan business and earn more through the interest on loans. So , the bank wants to convert the liability based customers to personal loan customers. (while retaining them as depositors). A campaign that the bank ran last year for liability customers showed a healthy conversion rate of over 9% success. The department wants you to build a model that will help them identify the potential customers who have a higher probability of purchasing the loan. This will increase the success ratio while at the same time reduce the cost of the campaign."
      ]
    },
    {
      "cell_type": "markdown",
      "metadata": {
        "id": "8Ef3oDzo5BbD",
        "colab_type": "text"
      },
      "source": [
        "# **Data Description**\n"
      ]
    },
    {
      "cell_type": "markdown",
      "metadata": {
        "id": "nSriSJSk5xfU",
        "colab_type": "text"
      },
      "source": [
        "The file Bank.xls contains data on 5000 customers. The data include customer demographic information (age, income, etc.), the customer's relationship with the bank (mortgage, securities account, etc.), and the customer response to the last personal loan campaign (Personal Loan). Among these 5000 customers, only 480 (= 9.6%) accepted the personal loan that was offered to them in the earlier campaign.\n",
        "\n",
        "Data Link:https://www.kaggle.com/itsmesunil/bank-loan-modelling/downloadnk text"
      ]
    },
    {
      "cell_type": "markdown",
      "metadata": {
        "id": "O1IzU7Ni6euM",
        "colab_type": "text"
      },
      "source": [
        "## Data Attribute Information:\n",
        "\n",
        "● ID: Customer ID\n",
        "\n",
        "● Age: Customer's age in completed years\n",
        "\n",
        "● Experience: #years of professional experience\n",
        "\n",
        "● Income: Annual income of the customer ($000)\n",
        "\n",
        "● ZIP Code: Home Address ZIP code.\n",
        "\n",
        "● Family: Family size of the customer\n",
        "\n",
        "● CCAvg: Avg. spending on credit cards per month ($000)\n",
        "\n",
        "● Education: Education Level. 1: Undergrad; 2: Graduate; 3:\n",
        "Advanced/Professional\n",
        "\n",
        "● Mortgage: Value of house mortgage if any. ($000)\n",
        "\n",
        "● Personal Loan: Did this customer accept the personal loan offered in the last\n",
        "campaign?\n",
        "\n",
        "● Securities Account: Does the customer have a securities account with the bank?\n",
        "\n",
        "● CD Account: Does the customer have a certificate of deposit (CD) account with\n",
        "the bank?\n",
        "\n",
        "● Online: Does the customer use internet banking facilities?\n",
        "\n",
        "● Credit card: Does the customer use a credit card issued by the bank?"
      ]
    },
    {
      "cell_type": "markdown",
      "metadata": {
        "id": "gf5vVYGh6FUt",
        "colab_type": "text"
      },
      "source": [
        "# CODE"
      ]
    },
    {
      "cell_type": "code",
      "metadata": {
        "_uuid": "8f2839f25d086af736a60e9eeb907d3b93b6e0e5",
        "_cell_guid": "b1076dfc-b9ad-4769-8c92-a6c4dae69d19",
        "trusted": true,
        "id": "I-VxGHw42B4M",
        "colab_type": "code",
        "colab": {}
      },
      "source": [
        "#Importing Libraries\n",
        "import numpy as np # linear algebra\n",
        "import pandas as pd # data processing\n",
        "import matplotlib.pyplot as plt #graph plotting\n",
        "import seaborn as sns\n",
        "%matplotlib inline\n",
        "sns.set(style=\"ticks\")\n",
        "from scipy.stats import zscore\n",
        "from sklearn.linear_model import LogisticRegression\n",
        "from sklearn.model_selection import train_test_split\n",
        "\n",
        "\"\"\"print(\"Hello1\")\n",
        "from scipy.stats import zscore\n",
        "from sklearn import tree\n",
        "from sklearn.tree import DecisionTreeClassifier\n",
        "from sklearn.ensemble import BaggingClassifier\n",
        "from sklearn.feature_extraction.text import CountVectorizer\n",
        "from sklearn.naive_bayes import GaussianNB\n",
        "from sklearn.ensemble import RandomForestClassifier\n",
        "from sklearn.ensemble import BaggingClassifier, RandomForestClassifier\n",
        "from sklearn.neighbors import KNeighborsClassifier\n",
        "from sklearn import model_selection\n",
        "print(\"Hello2\")\"\"\""
      ],
      "execution_count": null,
      "outputs": []
    },
    {
      "cell_type": "code",
      "metadata": {
        "trusted": true,
        "_uuid": "6f7aa0cb3546122c4a9f98cbd3995ed74e9a505e",
        "id": "LJKS279A2B5C",
        "colab_type": "code",
        "colab": {}
      },
      "source": [
        "#Importing Dataset\n",
        "data = pd.read_excel('Bank_Personal_Loan_Modelling.xlsx','Data')"
      ],
      "execution_count": null,
      "outputs": []
    },
    {
      "cell_type": "code",
      "metadata": {
        "trusted": true,
        "_uuid": "0bedb8ebc0855423d25054690a1658aa28ec9b66",
        "id": "t0zXMCK12B50",
        "colab_type": "code",
        "colab": {}
      },
      "source": [
        "#Displaying number of rows and columns\n",
        "data.shape"
      ],
      "execution_count": null,
      "outputs": []
    },
    {
      "cell_type": "code",
      "metadata": {
        "trusted": true,
        "_uuid": "da247fa73821e0fa59840a8e486e9933d5763325",
        "id": "A8NLlfl52B5T",
        "colab_type": "code",
        "colab": {}
      },
      "source": [
        "#Displaying 1st 5 data values\n",
        "data.head(10)"
      ],
      "execution_count": null,
      "outputs": []
    },
    {
      "cell_type": "code",
      "metadata": {
        "id": "YXjUclDsDl6W",
        "colab_type": "code",
        "colab": {}
      },
      "source": [
        "data.tail()"
      ],
      "execution_count": null,
      "outputs": []
    },
    {
      "cell_type": "code",
      "metadata": {
        "id": "zZCJJTOPPLOg",
        "colab_type": "code",
        "colab": {}
      },
      "source": [
        "data.dtypes"
      ],
      "execution_count": null,
      "outputs": []
    },
    {
      "cell_type": "code",
      "metadata": {
        "trusted": true,
        "_uuid": "a954fd3c4cab8e8326fa6d1d0a03849c9829e4fb",
        "id": "sj6CGsFy2B5i",
        "colab_type": "code",
        "colab": {}
      },
      "source": [
        "#Displaying Column Values\n",
        "data.columns"
      ],
      "execution_count": null,
      "outputs": []
    },
    {
      "cell_type": "code",
      "metadata": {
        "trusted": true,
        "_uuid": "2264dc3442114cf9f4f6699dd3ca1a19b4f8c497",
        "id": "ON-xun7e2B6C",
        "colab_type": "code",
        "colab": {}
      },
      "source": [
        "data.info()"
      ],
      "execution_count": null,
      "outputs": []
    },
    {
      "cell_type": "code",
      "metadata": {
        "id": "CdCSVECz3RUh",
        "colab_type": "code",
        "colab": {}
      },
      "source": [
        "data.describe()"
      ],
      "execution_count": null,
      "outputs": []
    },
    {
      "cell_type": "code",
      "metadata": {
        "trusted": true,
        "_uuid": "f23d2cfdec7a15e61c708f81bc56ef6a4462d5a2",
        "id": "dg-NaB1j2B6N",
        "colab_type": "code",
        "colab": {}
      },
      "source": [
        "#Counting the missing values in the column \n",
        "data.apply(lambda x: sum(x.isnull().values), axis = 0) # For columns"
      ],
      "execution_count": null,
      "outputs": []
    },
    {
      "cell_type": "code",
      "metadata": {
        "id": "e8jdffbjKesc",
        "colab_type": "code",
        "colab": {}
      },
      "source": [
        "#Counting the missing values in the rows \n",
        "data.apply(lambda x: sum(x.isnull().values), axis = 1) # For  rows"
      ],
      "execution_count": null,
      "outputs": []
    },
    {
      "cell_type": "code",
      "metadata": {
        "id": "sIXRC_kZKwHq",
        "colab_type": "code",
        "colab": {}
      },
      "source": [
        "np.count_nonzero(data.isnull().values) "
      ],
      "execution_count": null,
      "outputs": []
    },
    {
      "cell_type": "code",
      "metadata": {
        "trusted": true,
        "_uuid": "a75cda3d89254cde1fbff1c54a0739ce86da8d79",
        "id": "xVqWx9f32B6l",
        "colab_type": "code",
        "colab": {}
      },
      "source": [
        "#finding unique data\n",
        "data.apply(lambda x: len(x.unique()))"
      ],
      "execution_count": null,
      "outputs": []
    },
    {
      "cell_type": "code",
      "metadata": {
        "id": "cXKulN_XPvxj",
        "colab_type": "code",
        "colab": {}
      },
      "source": [
        "#Removing ID column as it doesn't have impact on the model\n",
        "data.drop('ID',axis=1,inplace=True)"
      ],
      "execution_count": null,
      "outputs": []
    },
    {
      "cell_type": "code",
      "metadata": {
        "id": "4jwPycQcP6zD",
        "colab_type": "code",
        "colab": {}
      },
      "source": [
        "data.describe()"
      ],
      "execution_count": null,
      "outputs": []
    },
    {
      "cell_type": "code",
      "metadata": {
        "id": "K_SWr0GFY6WN",
        "colab_type": "code",
        "colab": {}
      },
      "source": [
        "#Age Distribution\n",
        "data.hist(column=\"Age\")"
      ],
      "execution_count": null,
      "outputs": []
    },
    {
      "cell_type": "code",
      "metadata": {
        "id": "tgCDWyntZdHx",
        "colab_type": "code",
        "colab": {}
      },
      "source": [
        "sns.distplot(data['Age'])"
      ],
      "execution_count": null,
      "outputs": []
    },
    {
      "cell_type": "code",
      "metadata": {
        "id": "oh0Chpr9ZvwI",
        "colab_type": "code",
        "colab": {}
      },
      "source": [
        "sns.distplot(data['Experience'])"
      ],
      "execution_count": null,
      "outputs": []
    },
    {
      "cell_type": "code",
      "metadata": {
        "id": "2LWMz1KWZvqp",
        "colab_type": "code",
        "colab": {}
      },
      "source": [
        "sns.distplot(data['Income'])"
      ],
      "execution_count": null,
      "outputs": []
    },
    {
      "cell_type": "code",
      "metadata": {
        "id": "CLdx1FASaJ85",
        "colab_type": "code",
        "colab": {}
      },
      "source": [
        "sns.distplot(data['CCAvg'])"
      ],
      "execution_count": null,
      "outputs": []
    },
    {
      "cell_type": "code",
      "metadata": {
        "id": "VbuJTkjPaObx",
        "colab_type": "code",
        "colab": {}
      },
      "source": [
        "sns.distplot(data['Mortgage'])"
      ],
      "execution_count": null,
      "outputs": []
    },
    {
      "cell_type": "code",
      "metadata": {
        "id": "jDyfp1WJaUzN",
        "colab_type": "code",
        "colab": {}
      },
      "source": [
        "#skewness\n",
        "data.skew()"
      ],
      "execution_count": null,
      "outputs": []
    },
    {
      "cell_type": "code",
      "metadata": {
        "id": "Ymy5NawoQccs",
        "colab_type": "code",
        "colab": {}
      },
      "source": [
        "data_z= data.apply(zscore)"
      ],
      "execution_count": null,
      "outputs": []
    },
    {
      "cell_type": "code",
      "metadata": {
        "id": "Y37NdQsWQ389",
        "colab_type": "code",
        "colab": {}
      },
      "source": [
        "plt.matshow(data_z.corr())"
      ],
      "execution_count": null,
      "outputs": []
    },
    {
      "cell_type": "code",
      "metadata": {
        "id": "7-9DXnuqRInd",
        "colab_type": "code",
        "colab": {}
      },
      "source": [
        "data_z.corr()"
      ],
      "execution_count": null,
      "outputs": []
    },
    {
      "cell_type": "code",
      "metadata": {
        "id": "-N3kcRcIR0y0",
        "colab_type": "code",
        "colab": {}
      },
      "source": [
        "sns.heatmap(data_z.corr(),vmin=-1,vmax=1,cmap='seismic')"
      ],
      "execution_count": null,
      "outputs": []
    },
    {
      "cell_type": "code",
      "metadata": {
        "id": "_NPeoNwWSA0l",
        "colab_type": "code",
        "colab": {}
      },
      "source": [
        "data_z.var()"
      ],
      "execution_count": null,
      "outputs": []
    },
    {
      "cell_type": "code",
      "metadata": {
        "id": "xO9qc4MDSHus",
        "colab_type": "code",
        "colab": {}
      },
      "source": [
        "sns.pairplot(data_z)"
      ],
      "execution_count": null,
      "outputs": []
    },
    {
      "cell_type": "code",
      "metadata": {
        "id": "6UuqpjXZa4dd",
        "colab_type": "code",
        "colab": {}
      },
      "source": [
        "data['Personal Loan'].value_counts()"
      ],
      "execution_count": null,
      "outputs": []
    },
    {
      "cell_type": "code",
      "metadata": {
        "id": "puih7jx9bHYp",
        "colab_type": "code",
        "colab": {}
      },
      "source": [
        "sns.countplot(data['Personal Loan'],label='Count')"
      ],
      "execution_count": null,
      "outputs": []
    },
    {
      "cell_type": "code",
      "metadata": {
        "id": "2xI-ABmgbS9B",
        "colab_type": "code",
        "colab": {}
      },
      "source": [
        "df=data\n",
        "loan_true = len(df.loc[df['Personal Loan'] == 1])\n",
        "loan_false = len(df.loc[df['Personal Loan'] == 0])\n",
        "print(\"Number of customers who accepted loan: {0} ({1:2.2f}%)\".format(loan_true, (loan_true / (loan_true + loan_false)) * 100 ))\n",
        "print(\"Number of customers who do not accepted loan: {0} ({1:2.2f}%)\".format(loan_false, (loan_false / (loan_true + loan_false)) * 100))"
      ],
      "execution_count": null,
      "outputs": []
    },
    {
      "cell_type": "markdown",
      "metadata": {
        "id": "szSvzNtYSgV6",
        "colab_type": "text"
      },
      "source": [
        "## **STEP 5**"
      ]
    },
    {
      "cell_type": "code",
      "metadata": {
        "id": "EgTRq1ZnSfJ7",
        "colab_type": "code",
        "colab": {}
      },
      "source": [
        "array =data_z.values\n",
        "bank_feature_df = data_z.drop(labels= \"Personal Loan\" , axis = 1)\n",
        "bank_labels = bank_data_z[\"Personal Loan\"]\n",
        "X = np.array(bank_feature_df)\n",
        "Y = np.array(bank_labels)\n",
        "X_train, X_test, Y_train, Y_test = train_test_split(X, Y, test_size=0.20, random_state=1)"
      ],
      "execution_count": null,
      "outputs": []
    },
    {
      "cell_type": "markdown",
      "metadata": {
        "id": "jzBHl_vSLSNg",
        "colab_type": "text"
      },
      "source": [
        "**Till NOW**"
      ]
    },
    {
      "cell_type": "code",
      "metadata": {
        "trusted": true,
        "_uuid": "df57811e198cbc2b012de985264a2da108415ec9",
        "id": "LFVPGPXR2B7B",
        "colab_type": "code",
        "colab": {}
      },
      "source": [
        "# there are 52 records with negative experience. Before proceeding any further we need to clean the same\n",
        "data[data['Experience'] < 0]['Experience'].count()"
      ],
      "execution_count": null,
      "outputs": []
    },
    {
      "cell_type": "code",
      "metadata": {
        "trusted": true,
        "_uuid": "07745684a4694d6a39b899dd281e4a2534e9a375",
        "id": "c4MqEcIE2B7N",
        "colab_type": "code",
        "colab": {
          "base_uri": "https://localhost:8080/",
          "height": 740
        },
        "outputId": "3e393e4e-16b7-4b4c-f81f-2d6f7b406855"
      },
      "source": [
        "#clean the negative variable\n",
        "dfExp = data.loc[data['Experience'] >0]\n",
        "negExp = data.Experience < 0\n",
        "column_name = 'Experience'\n",
        "mylist = data.loc[negExp]['ID'].tolist() # getting the customer ID who has negative experience"
      ],
      "execution_count": 30,
      "outputs": [
        {
          "output_type": "error",
          "ename": "KeyError",
          "evalue": "ignored",
          "traceback": [
            "\u001b[0;31m---------------------------------------------------------------------------\u001b[0m",
            "\u001b[0;31mKeyError\u001b[0m                                  Traceback (most recent call last)",
            "\u001b[0;32m/usr/local/lib/python3.6/dist-packages/pandas/core/indexes/base.py\u001b[0m in \u001b[0;36mget_loc\u001b[0;34m(self, key, method, tolerance)\u001b[0m\n\u001b[1;32m   2645\u001b[0m             \u001b[0;32mtry\u001b[0m\u001b[0;34m:\u001b[0m\u001b[0;34m\u001b[0m\u001b[0;34m\u001b[0m\u001b[0m\n\u001b[0;32m-> 2646\u001b[0;31m                 \u001b[0;32mreturn\u001b[0m \u001b[0mself\u001b[0m\u001b[0;34m.\u001b[0m\u001b[0m_engine\u001b[0m\u001b[0;34m.\u001b[0m\u001b[0mget_loc\u001b[0m\u001b[0;34m(\u001b[0m\u001b[0mkey\u001b[0m\u001b[0;34m)\u001b[0m\u001b[0;34m\u001b[0m\u001b[0;34m\u001b[0m\u001b[0m\n\u001b[0m\u001b[1;32m   2647\u001b[0m             \u001b[0;32mexcept\u001b[0m \u001b[0mKeyError\u001b[0m\u001b[0;34m:\u001b[0m\u001b[0;34m\u001b[0m\u001b[0;34m\u001b[0m\u001b[0m\n",
            "\u001b[0;32mpandas/_libs/index.pyx\u001b[0m in \u001b[0;36mpandas._libs.index.IndexEngine.get_loc\u001b[0;34m()\u001b[0m\n",
            "\u001b[0;32mpandas/_libs/index.pyx\u001b[0m in \u001b[0;36mpandas._libs.index.IndexEngine.get_loc\u001b[0;34m()\u001b[0m\n",
            "\u001b[0;32mpandas/_libs/hashtable_class_helper.pxi\u001b[0m in \u001b[0;36mpandas._libs.hashtable.PyObjectHashTable.get_item\u001b[0;34m()\u001b[0m\n",
            "\u001b[0;32mpandas/_libs/hashtable_class_helper.pxi\u001b[0m in \u001b[0;36mpandas._libs.hashtable.PyObjectHashTable.get_item\u001b[0;34m()\u001b[0m\n",
            "\u001b[0;31mKeyError\u001b[0m: 'ID'",
            "\nDuring handling of the above exception, another exception occurred:\n",
            "\u001b[0;31mKeyError\u001b[0m                                  Traceback (most recent call last)",
            "\u001b[0;32m<ipython-input-30-6c3e4e817f97>\u001b[0m in \u001b[0;36m<module>\u001b[0;34m()\u001b[0m\n\u001b[1;32m      3\u001b[0m \u001b[0mnegExp\u001b[0m \u001b[0;34m=\u001b[0m \u001b[0mdata\u001b[0m\u001b[0;34m.\u001b[0m\u001b[0mExperience\u001b[0m \u001b[0;34m<\u001b[0m \u001b[0;36m0\u001b[0m\u001b[0;34m\u001b[0m\u001b[0;34m\u001b[0m\u001b[0m\n\u001b[1;32m      4\u001b[0m \u001b[0mcolumn_name\u001b[0m \u001b[0;34m=\u001b[0m \u001b[0;34m'Experience'\u001b[0m\u001b[0;34m\u001b[0m\u001b[0;34m\u001b[0m\u001b[0m\n\u001b[0;32m----> 5\u001b[0;31m \u001b[0mmylist\u001b[0m \u001b[0;34m=\u001b[0m \u001b[0mdata\u001b[0m\u001b[0;34m.\u001b[0m\u001b[0mloc\u001b[0m\u001b[0;34m[\u001b[0m\u001b[0mnegExp\u001b[0m\u001b[0;34m]\u001b[0m\u001b[0;34m[\u001b[0m\u001b[0;34m'ID'\u001b[0m\u001b[0;34m]\u001b[0m\u001b[0;34m.\u001b[0m\u001b[0mtolist\u001b[0m\u001b[0;34m(\u001b[0m\u001b[0;34m)\u001b[0m \u001b[0;31m# getting the customer ID who has negative experience\u001b[0m\u001b[0;34m\u001b[0m\u001b[0;34m\u001b[0m\u001b[0m\n\u001b[0m",
            "\u001b[0;32m/usr/local/lib/python3.6/dist-packages/pandas/core/frame.py\u001b[0m in \u001b[0;36m__getitem__\u001b[0;34m(self, key)\u001b[0m\n\u001b[1;32m   2798\u001b[0m             \u001b[0;32mif\u001b[0m \u001b[0mself\u001b[0m\u001b[0;34m.\u001b[0m\u001b[0mcolumns\u001b[0m\u001b[0;34m.\u001b[0m\u001b[0mnlevels\u001b[0m \u001b[0;34m>\u001b[0m \u001b[0;36m1\u001b[0m\u001b[0;34m:\u001b[0m\u001b[0;34m\u001b[0m\u001b[0;34m\u001b[0m\u001b[0m\n\u001b[1;32m   2799\u001b[0m                 \u001b[0;32mreturn\u001b[0m \u001b[0mself\u001b[0m\u001b[0;34m.\u001b[0m\u001b[0m_getitem_multilevel\u001b[0m\u001b[0;34m(\u001b[0m\u001b[0mkey\u001b[0m\u001b[0;34m)\u001b[0m\u001b[0;34m\u001b[0m\u001b[0;34m\u001b[0m\u001b[0m\n\u001b[0;32m-> 2800\u001b[0;31m             \u001b[0mindexer\u001b[0m \u001b[0;34m=\u001b[0m \u001b[0mself\u001b[0m\u001b[0;34m.\u001b[0m\u001b[0mcolumns\u001b[0m\u001b[0;34m.\u001b[0m\u001b[0mget_loc\u001b[0m\u001b[0;34m(\u001b[0m\u001b[0mkey\u001b[0m\u001b[0;34m)\u001b[0m\u001b[0;34m\u001b[0m\u001b[0;34m\u001b[0m\u001b[0m\n\u001b[0m\u001b[1;32m   2801\u001b[0m             \u001b[0;32mif\u001b[0m \u001b[0mis_integer\u001b[0m\u001b[0;34m(\u001b[0m\u001b[0mindexer\u001b[0m\u001b[0;34m)\u001b[0m\u001b[0;34m:\u001b[0m\u001b[0;34m\u001b[0m\u001b[0;34m\u001b[0m\u001b[0m\n\u001b[1;32m   2802\u001b[0m                 \u001b[0mindexer\u001b[0m \u001b[0;34m=\u001b[0m \u001b[0;34m[\u001b[0m\u001b[0mindexer\u001b[0m\u001b[0;34m]\u001b[0m\u001b[0;34m\u001b[0m\u001b[0;34m\u001b[0m\u001b[0m\n",
            "\u001b[0;32m/usr/local/lib/python3.6/dist-packages/pandas/core/indexes/base.py\u001b[0m in \u001b[0;36mget_loc\u001b[0;34m(self, key, method, tolerance)\u001b[0m\n\u001b[1;32m   2646\u001b[0m                 \u001b[0;32mreturn\u001b[0m \u001b[0mself\u001b[0m\u001b[0;34m.\u001b[0m\u001b[0m_engine\u001b[0m\u001b[0;34m.\u001b[0m\u001b[0mget_loc\u001b[0m\u001b[0;34m(\u001b[0m\u001b[0mkey\u001b[0m\u001b[0;34m)\u001b[0m\u001b[0;34m\u001b[0m\u001b[0;34m\u001b[0m\u001b[0m\n\u001b[1;32m   2647\u001b[0m             \u001b[0;32mexcept\u001b[0m \u001b[0mKeyError\u001b[0m\u001b[0;34m:\u001b[0m\u001b[0;34m\u001b[0m\u001b[0;34m\u001b[0m\u001b[0m\n\u001b[0;32m-> 2648\u001b[0;31m                 \u001b[0;32mreturn\u001b[0m \u001b[0mself\u001b[0m\u001b[0;34m.\u001b[0m\u001b[0m_engine\u001b[0m\u001b[0;34m.\u001b[0m\u001b[0mget_loc\u001b[0m\u001b[0;34m(\u001b[0m\u001b[0mself\u001b[0m\u001b[0;34m.\u001b[0m\u001b[0m_maybe_cast_indexer\u001b[0m\u001b[0;34m(\u001b[0m\u001b[0mkey\u001b[0m\u001b[0;34m)\u001b[0m\u001b[0;34m)\u001b[0m\u001b[0;34m\u001b[0m\u001b[0;34m\u001b[0m\u001b[0m\n\u001b[0m\u001b[1;32m   2649\u001b[0m         \u001b[0mindexer\u001b[0m \u001b[0;34m=\u001b[0m \u001b[0mself\u001b[0m\u001b[0;34m.\u001b[0m\u001b[0mget_indexer\u001b[0m\u001b[0;34m(\u001b[0m\u001b[0;34m[\u001b[0m\u001b[0mkey\u001b[0m\u001b[0;34m]\u001b[0m\u001b[0;34m,\u001b[0m \u001b[0mmethod\u001b[0m\u001b[0;34m=\u001b[0m\u001b[0mmethod\u001b[0m\u001b[0;34m,\u001b[0m \u001b[0mtolerance\u001b[0m\u001b[0;34m=\u001b[0m\u001b[0mtolerance\u001b[0m\u001b[0;34m)\u001b[0m\u001b[0;34m\u001b[0m\u001b[0;34m\u001b[0m\u001b[0m\n\u001b[1;32m   2650\u001b[0m         \u001b[0;32mif\u001b[0m \u001b[0mindexer\u001b[0m\u001b[0;34m.\u001b[0m\u001b[0mndim\u001b[0m \u001b[0;34m>\u001b[0m \u001b[0;36m1\u001b[0m \u001b[0;32mor\u001b[0m \u001b[0mindexer\u001b[0m\u001b[0;34m.\u001b[0m\u001b[0msize\u001b[0m \u001b[0;34m>\u001b[0m \u001b[0;36m1\u001b[0m\u001b[0;34m:\u001b[0m\u001b[0;34m\u001b[0m\u001b[0;34m\u001b[0m\u001b[0m\n",
            "\u001b[0;32mpandas/_libs/index.pyx\u001b[0m in \u001b[0;36mpandas._libs.index.IndexEngine.get_loc\u001b[0;34m()\u001b[0m\n",
            "\u001b[0;32mpandas/_libs/index.pyx\u001b[0m in \u001b[0;36mpandas._libs.index.IndexEngine.get_loc\u001b[0;34m()\u001b[0m\n",
            "\u001b[0;32mpandas/_libs/hashtable_class_helper.pxi\u001b[0m in \u001b[0;36mpandas._libs.hashtable.PyObjectHashTable.get_item\u001b[0;34m()\u001b[0m\n",
            "\u001b[0;32mpandas/_libs/hashtable_class_helper.pxi\u001b[0m in \u001b[0;36mpandas._libs.hashtable.PyObjectHashTable.get_item\u001b[0;34m()\u001b[0m\n",
            "\u001b[0;31mKeyError\u001b[0m: 'ID'"
          ]
        }
      ]
    },
    {
      "cell_type": "code",
      "metadata": {
        "trusted": true,
        "_uuid": "c4333152287546cb26fc442f86d5585711523f14",
        "id": "FyFeixPj2B7W",
        "colab_type": "code",
        "colab": {}
      },
      "source": [
        "# there are 52 records with negative experience\n",
        "negExp.value_counts()"
      ],
      "execution_count": null,
      "outputs": []
    },
    {
      "cell_type": "code",
      "metadata": {
        "trusted": true,
        "_uuid": "6a98c5f0eafa50072e9e315d5b22379aa3a7793a",
        "id": "pYtrVcKh2B7j",
        "colab_type": "code",
        "colab": {}
      },
      "source": [
        "for id in mylist:\n",
        "    age = data.loc[np.where(data['ID']==id)][\"Age\"].tolist()[0]\n",
        "    education = data.loc[np.where(data['ID']==id)][\"Education\"].tolist()[0]\n",
        "    df_filtered = dfExp[(dfExp.Age == age) & (dfExp.Education == education)]\n",
        "    exp = df_filtered['Experience'].median()\n",
        "    data.loc[data.loc[np.where(data['ID']==id)].index, 'Experience'] = exp"
      ],
      "execution_count": null,
      "outputs": []
    },
    {
      "cell_type": "code",
      "metadata": {
        "trusted": true,
        "_uuid": "0f21e8da27e0a4d99643ea9eab9b7200ea3b1101",
        "id": "RAQbc2gF2B7t",
        "colab_type": "code",
        "colab": {}
      },
      "source": [
        "# checking if there are records with negative experience\n",
        "data[data['Experience'] < 0]['Experience'].count()"
      ],
      "execution_count": null,
      "outputs": []
    },
    {
      "cell_type": "code",
      "metadata": {
        "trusted": true,
        "_uuid": "44da7dd595b762df6736a3437261f36ad663f420",
        "id": "o9tLEWZ52B72",
        "colab_type": "code",
        "colab": {}
      },
      "source": [
        "data.describe().transpose()"
      ],
      "execution_count": null,
      "outputs": []
    }
  ]
}